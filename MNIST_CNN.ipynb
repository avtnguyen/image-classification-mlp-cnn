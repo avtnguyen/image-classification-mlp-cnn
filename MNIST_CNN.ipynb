{
  "nbformat": 4,
  "nbformat_minor": 0,
  "metadata": {
    "colab": {
      "provenance": [],
      "toc_visible": true
    },
    "kernelspec": {
      "name": "python3",
      "display_name": "Python 3"
    },
    "language_info": {
      "name": "python"
    },
    "accelerator": "GPU",
    "gpuClass": "standard"
  },
  "cells": [
    {
      "cell_type": "markdown",
      "source": [
        "# Image recognition with MNIST dataset"
      ],
      "metadata": {
        "id": "rD58IF-_o2mx"
      }
    },
    {
      "cell_type": "markdown",
      "source": [
        "## Import MNIST dataset and visualize the dataset"
      ],
      "metadata": {
        "id": "_Mjhdf9I7ESP"
      }
    },
    {
      "cell_type": "code",
      "source": [
        "# Import library\n",
        "import numpy as np\n",
        "import pandas as pd\n",
        "import seaborn as sns\n",
        "import matplotlib.pyplot as plt\n",
        "%matplotlib inline"
      ],
      "metadata": {
        "id": "H545TaHlvjdI"
      },
      "execution_count": null,
      "outputs": []
    },
    {
      "cell_type": "code",
      "source": [
        "# Load MNIST dataset from tensorflow\n",
        "from tensorflow.keras.datasets import mnist"
      ],
      "metadata": {
        "id": "MJdaVwnHpRex"
      },
      "execution_count": null,
      "outputs": []
    },
    {
      "cell_type": "code",
      "source": [
        "(X_train, y_train), (X_test, y_test) = mnist.load_data()"
      ],
      "metadata": {
        "colab": {
          "base_uri": "https://localhost:8080/"
        },
        "id": "xY67o7rXpdXB",
        "outputId": "b36d495c-3de3-49e2-e5e7-161ac98d5feb"
      },
      "execution_count": null,
      "outputs": [
        {
          "output_type": "stream",
          "name": "stdout",
          "text": [
            "Downloading data from https://storage.googleapis.com/tensorflow/tf-keras-datasets/mnist.npz\n",
            "11490434/11490434 [==============================] - 2s 0us/step\n"
          ]
        }
      ]
    },
    {
      "cell_type": "code",
      "source": [
        "print('Train data shape:', X_train.shape, y_train.shape)\n",
        "print('Test data shape:', X_test.shape, y_test.shape)\n",
        "\n",
        "#Count number of unique train labels:\n",
        "train_unique,train_counts = np.unique(y_train, return_counts=True)\n",
        "print('Train labels:', dict(zip(train_unique,train_counts)))\n",
        "\n",
        "#Count number of unique train labels:\n",
        "test_unique,test_counts = np.unique(y_test, return_counts=True)\n",
        "print('Test labels:', dict(zip(test_unique,test_counts)))"
      ],
      "metadata": {
        "colab": {
          "base_uri": "https://localhost:8080/"
        },
        "id": "VCe2OuwJpjL5",
        "outputId": "b901f91c-3b1e-45d9-bc26-7bb1a0cf8eb8"
      },
      "execution_count": null,
      "outputs": [
        {
          "output_type": "stream",
          "name": "stdout",
          "text": [
            "Train data shape: (60000, 28, 28) (60000,)\n",
            "Test data shape: (10000, 28, 28) (10000,)\n",
            "Train labels: {0: 5923, 1: 6742, 2: 5958, 3: 6131, 4: 5842, 5: 5421, 6: 5918, 7: 6265, 8: 5851, 9: 5949}\n",
            "Test labels: {0: 980, 1: 1135, 2: 1032, 3: 1010, 4: 982, 5: 892, 6: 958, 7: 1028, 8: 974, 9: 1009}\n"
          ]
        }
      ]
    },
    {
      "cell_type": "code",
      "source": [
        "fig, (ax1,ax2) = plt.subplots(1,2,figsize = (18, 6))\n",
        "sns.countplot(y_train,color = 'grey',ax=ax1)\n",
        "ax1.set_title('Count plot for each digit from 0 to 9 in train dataset')\n",
        "\n",
        "sns.countplot(y_test,color = 'grey',ax=ax2)\n",
        "ax2.set_title('Count plot for each digit from 0 to 9 in test dataset')"
      ],
      "metadata": {
        "colab": {
          "base_uri": "https://localhost:8080/",
          "height": 497
        },
        "id": "9UpZcvwl3Fxl",
        "outputId": "f6bec9cd-57b3-4c1a-9f4a-539b6f3c811d"
      },
      "execution_count": null,
      "outputs": [
        {
          "output_type": "stream",
          "name": "stderr",
          "text": [
            "/usr/local/lib/python3.7/dist-packages/seaborn/_decorators.py:43: FutureWarning: Pass the following variable as a keyword arg: x. From version 0.12, the only valid positional argument will be `data`, and passing other arguments without an explicit keyword will result in an error or misinterpretation.\n",
            "  FutureWarning\n",
            "/usr/local/lib/python3.7/dist-packages/seaborn/_decorators.py:43: FutureWarning: Pass the following variable as a keyword arg: x. From version 0.12, the only valid positional argument will be `data`, and passing other arguments without an explicit keyword will result in an error or misinterpretation.\n",
            "  FutureWarning\n"
          ]
        },
        {
          "output_type": "execute_result",
          "data": {
            "text/plain": [
              "Text(0.5, 1.0, 'Count plot for each digit from 0 to 9 in test dataset')"
            ]
          },
          "metadata": {},
          "execution_count": 6
        },
        {
          "output_type": "display_data",
          "data": {
            "text/plain": [
              "<Figure size 1296x432 with 2 Axes>"
            ],
            "image/png": "[encoded data removed]"
          },
          "metadata": {
            "needs_background": "light"
          }
        }
      ]
    },
    {
      "cell_type": "markdown",
      "source": [
        "Test and train dataset has similar distribution and equally distributed"
      ],
      "metadata": {
        "id": "FVfBOqF85ePt"
      }
    },
    {
      "cell_type": "code",
      "source": [
        "# Display the first 25 image in training dataset:\n",
        "plt.figure(figsize=(5,7))\n",
        "for i in range(25):\n",
        "  plt.subplot(5,5,i+1)\n",
        "  plt.imshow(X_train[i], cmap='gray') \n",
        "  plt.title(y_train[i])\n",
        "  plt.axis('off')"
      ],
      "metadata": {
        "colab": {
          "base_uri": "https://localhost:8080/",
          "height": 410
        },
        "id": "-1zF3kBaplI5",
        "outputId": "57668b25-2c76-4f08-8659-5c638cb0c932"
      },
      "execution_count": null,
      "outputs": [
        {
          "output_type": "display_data",
          "data": {
            "text/plain": [
              "<Figure size 360x504 with 25 Axes>"
            ],
            "image/png": "[encoded data removed]"
          },
          "metadata": {
            "needs_background": "light"
          }
        }
      ]
    },
    {
      "cell_type": "code",
      "source": [
        "#Check the type of train and test data    \n",
        "print('Type of train data:',type(X_train))\n",
        "print('Type of test data:',type(X_train))"
      ],
      "metadata": {
        "colab": {
          "base_uri": "https://localhost:8080/"
        },
        "id": "g3cGufrsvgij",
        "outputId": "a5b5a949-8883-4c26-fab6-846ffbd0c686"
      },
      "execution_count": null,
      "outputs": [
        {
          "output_type": "stream",
          "name": "stdout",
          "text": [
            "Type of train data: <class 'numpy.ndarray'>\n",
            "Type of test data: <class 'numpy.ndarray'>\n"
          ]
        }
      ]
    },
    {
      "cell_type": "code",
      "source": [
        "#Number of digits in dataset:\n",
        "n_labels = np.unique(y_train)\n",
        "print('There are {} numbers to detect from the dataset'.format(len(n_labels)))\n",
        "print(n_labels)"
      ],
      "metadata": {
        "colab": {
          "base_uri": "https://localhost:8080/"
        },
        "id": "Ffka4c5exSD6",
        "outputId": "f9c8f49d-7127-4ce2-e539-6676816b5d61"
      },
      "execution_count": null,
      "outputs": [
        {
          "output_type": "stream",
          "name": "stdout",
          "text": [
            "There are 10 numbers to detect from the dataset\n",
            "[0 1 2 3 4 5 6 7 8 9]\n"
          ]
        }
      ]
    },
    {
      "cell_type": "markdown",
      "source": [
        "## Transform data for NNs model"
      ],
      "metadata": {
        "id": "iw7-1qsP_u96"
      }
    },
    {
      "cell_type": "markdown",
      "source": [
        "### On-hot encoding"
      ],
      "metadata": {
        "id": "oaip7khRAE0z"
      }
    },
    {
      "cell_type": "markdown",
      "source": [
        "Use tensorflow.keras.utils.to_categorical to converts a class vector (integers) to binary class matrix. Here, we will use it to convert our labels to a binary matrix with column values are 0 everywhere except for the index of the digit class."
      ],
      "metadata": {
        "id": "S95PSszGCEkA"
      }
    },
    {
      "cell_type": "code",
      "source": [
        "from tensorflow.keras.utils import to_categorical"
      ],
      "metadata": {
        "id": "yijKuYidA9qn"
      },
      "execution_count": null,
      "outputs": []
    },
    {
      "cell_type": "code",
      "source": [
        "y_train = to_categorical(y_train)\n",
        "y_test = to_categorical(y_test)"
      ],
      "metadata": {
        "id": "oMvDc-SHBMrK"
      },
      "execution_count": null,
      "outputs": []
    },
    {
      "cell_type": "code",
      "source": [
        "print('Train data shape after one-hot encoding:', y_train.shape)\n",
        "print('Test data shape after one-hot encoding:', y_test.shape)"
      ],
      "metadata": {
        "colab": {
          "base_uri": "https://localhost:8080/"
        },
        "id": "p5YClxngCNZ2",
        "outputId": "1ae3cef5-b128-41c6-89fa-135b2ff043f5"
      },
      "execution_count": null,
      "outputs": [
        {
          "output_type": "stream",
          "name": "stdout",
          "text": [
            "Train data shape after one-hot encoding: (60000, 10)\n",
            "Test data shape after one-hot encoding: (10000, 10)\n"
          ]
        }
      ]
    },
    {
      "cell_type": "markdown",
      "source": [
        "### Process images and normalization"
      ],
      "metadata": {
        "id": "TVLxiHdTCXr6"
      }
    },
    {
      "cell_type": "code",
      "source": [
        "X_train.shape"
      ],
      "metadata": {
        "colab": {
          "base_uri": "https://localhost:8080/"
        },
        "id": "h4l3I4DUJKe0",
        "outputId": "211f03e0-467e-42df-b9da-438eacac9fd6"
      },
      "execution_count": null,
      "outputs": [
        {
          "output_type": "execute_result",
          "data": {
            "text/plain": [
              "(60000, 28, 28)"
            ]
          },
          "metadata": {},
          "execution_count": 13
        }
      ]
    },
    {
      "cell_type": "markdown",
      "source": [
        "The input data format for CNN in tensorflow is a four dimensional tensor of sample, rows, cols, channels for the color in RGB. However, MNIST data is a grayscale so the channel will have value of 1 instead. Thus, transform the train and test data based on that."
      ],
      "metadata": {
        "id": "Z-HTfjzbDoGd"
      }
    },
    {
      "cell_type": "code",
      "source": [
        "import tensorflow.keras as k"
      ],
      "metadata": {
        "id": "cveaLqcD2pGj"
      },
      "execution_count": null,
      "outputs": []
    },
    {
      "cell_type": "code",
      "source": [
        "# Checking image data format:\n",
        "k.backend.image_data_format()"
      ],
      "metadata": {
        "colab": {
          "base_uri": "https://localhost:8080/",
          "height": 35
        },
        "id": "xILGfluQ25PS",
        "outputId": "af53aede-6896-4043-be14-9a96591ca1a1"
      },
      "execution_count": null,
      "outputs": [
        {
          "output_type": "execute_result",
          "data": {
            "text/plain": [
              "'channels_last'"
            ],
            "application/vnd.google.colaboratory.intrinsic+json": {
              "type": "string"
            }
          },
          "metadata": {},
          "execution_count": 15
        }
      ]
    },
    {
      "cell_type": "markdown",
      "source": [
        "Channels_last: the input data format would be a four dimensional tensor: samples, rows, cols, channels. The outputs of the convolutional layers will also follow this pattern."
      ],
      "metadata": {
        "id": "qVap0GvN3FGv"
      }
    },
    {
      "cell_type": "code",
      "source": [
        "img_rows, img_cols=X_train.shape[1], X_train.shape[2]\n",
        "#reshape the train and test data based on the format of the model:channels_first, or channels_last \n",
        "X_train = X_train.reshape(X_train.shape[0], img_rows, img_cols, 1)\n",
        "X_test = X_test.reshape(X_test.shape[0], img_rows, img_cols, 1)\n",
        "inpx = (img_rows, img_cols, 1)\n",
        " "
      ],
      "metadata": {
        "id": "zeKvyszw42Ma"
      },
      "execution_count": null,
      "outputs": []
    },
    {
      "cell_type": "code",
      "source": [
        "X_train.shape"
      ],
      "metadata": {
        "colab": {
          "base_uri": "https://localhost:8080/"
        },
        "id": "-ZycFqw3Ekcr",
        "outputId": "52807f7f-400e-4fdd-a1a1-b2e2b995f4bc"
      },
      "execution_count": null,
      "outputs": [
        {
          "output_type": "execute_result",
          "data": {
            "text/plain": [
              "(60000, 28, 28, 1)"
            ]
          },
          "metadata": {},
          "execution_count": 17
        }
      ]
    },
    {
      "cell_type": "code",
      "source": [
        "#Normalize the data from 0-255 to 0-1:\n",
        "print('Data before normalization is ranged from {} to {}'.format(X_train[0].min(),X_train[0].max()))\n",
        "X_train = X_train.astype('float32')/255\n",
        "X_test = X_test.astype('float32')/255"
      ],
      "metadata": {
        "colab": {
          "base_uri": "https://localhost:8080/"
        },
        "id": "gGmvOcNmNKJp",
        "outputId": "834a52bc-d748-47d4-9484-07e8b3909bc2"
      },
      "execution_count": null,
      "outputs": [
        {
          "output_type": "stream",
          "name": "stdout",
          "text": [
            "Data before normalization is ranged from 0 to 255\n"
          ]
        }
      ]
    },
    {
      "cell_type": "code",
      "source": [
        "print('Train data after normalization is ranged from {} to {}'.format(X_train[0].min(),X_train[0].max()))\n",
        "print('Test data after normalization is ranged from {} to {}'.format(X_train[0].min(),X_train[0].max()))"
      ],
      "metadata": {
        "colab": {
          "base_uri": "https://localhost:8080/"
        },
        "id": "hGDInmvqN91a",
        "outputId": "b34ba5d6-b5e5-4825-f21d-e85398a8603b"
      },
      "execution_count": null,
      "outputs": [
        {
          "output_type": "stream",
          "name": "stdout",
          "text": [
            "Train data after normalization is ranged from 0.0 to 1.0\n",
            "Test data after normalization is ranged from 0.0 to 1.0\n"
          ]
        }
      ]
    },
    {
      "cell_type": "markdown",
      "source": [
        "## Convolutional neural networks"
      ],
      "metadata": {
        "id": "MHPGrXPaw-i5"
      }
    },
    {
      "cell_type": "markdown",
      "source": [
        "### Model architecture"
      ],
      "metadata": {
        "id": "CRtGDrUnvcii"
      }
    },
    {
      "cell_type": "code",
      "source": [
        "from tensorflow.keras.models import Sequential\n",
        "from tensorflow.keras.layers import Dense, Activation, Dropout, Conv2D, MaxPooling2D, Flatten\n",
        "from tensorflow.keras.callbacks import EarlyStopping"
      ],
      "metadata": {
        "id": "fLigk0RHvS3u"
      },
      "execution_count": null,
      "outputs": []
    },
    {
      "cell_type": "code",
      "source": [
        "#Specify callback criteria\n",
        "early_stop = EarlyStopping(monitor='val_loss', mode='min',verbose = 1, patience = 25)\n"
      ],
      "metadata": {
        "id": "SvpRa-tkvTf_"
      },
      "execution_count": null,
      "outputs": []
    },
    {
      "cell_type": "code",
      "source": [
        "model = Sequential()\n",
        "\n",
        "model.add(Conv2D(32, kernel_size = (3,3), activation ='relu', input_shape = inpx))\n",
        "model.add(Conv2D(64, kernel_size = (3,3), activation ='relu'))\n",
        "\n",
        "model.add(MaxPooling2D(pool_size=(3,3)))\n",
        "model.add(Dropout(0.5))\n",
        "\n",
        "model.add(Flatten()) #Convert to 1-D tensor\n",
        "model.add(Dense(128, activation = 'relu'))\n",
        "model.add(Dropout(0.5))\n",
        "\n",
        "model.add(Dense(10, activation = 'softmax')) #10 is number of labels: 0-9\n",
        "\n",
        "\n",
        "\n",
        "model.compile(loss = 'CategoricalCrossentropy', optimizer='adam',\n",
        "              metrics=['accuracy']) "
      ],
      "metadata": {
        "id": "RXK-I5aSwUCf"
      },
      "execution_count": null,
      "outputs": []
    },
    {
      "cell_type": "markdown",
      "source": [
        "### Model summary and view"
      ],
      "metadata": {
        "id": "SyGHb8WSCbxW"
      }
    },
    {
      "cell_type": "code",
      "source": [
        "model.summary()"
      ],
      "metadata": {
        "id": "iCaxlYe6CbPt",
        "colab": {
          "base_uri": "https://localhost:8080/"
        },
        "outputId": "56fb2458-b34c-455c-83c9-bec348e6451d"
      },
      "execution_count": null,
      "outputs": [
        {
          "output_type": "stream",
          "name": "stdout",
          "text": [
            "Model: \"sequential\"\n",
            "_________________________________________________________________\n",
            " Layer (type)                Output Shape              Param #   \n",
            "=================================================================\n",
            " conv2d (Conv2D)             (None, 26, 26, 32)        320       \n",
            "                                                                 \n",
            " conv2d_1 (Conv2D)           (None, 24, 24, 64)        18496     \n",
            "                                                                 \n",
            " max_pooling2d (MaxPooling2D  (None, 8, 8, 64)         0         \n",
            " )                                                               \n",
            "                                                                 \n",
            " dropout (Dropout)           (None, 8, 8, 64)          0         \n",
            "                                                                 \n",
            " flatten (Flatten)           (None, 4096)              0         \n",
            "                                                                 \n",
            " dense (Dense)               (None, 128)               524416    \n",
            "                                                                 \n",
            " dropout_1 (Dropout)         (None, 128)               0         \n",
            "                                                                 \n",
            " dense_1 (Dense)             (None, 10)                1290      \n",
            "                                                                 \n",
            "=================================================================\n",
            "Total params: 544,522\n",
            "Trainable params: 544,522\n",
            "Non-trainable params: 0\n",
            "_________________________________________________________________\n"
          ]
        }
      ]
    },
    {
      "cell_type": "code",
      "source": [
        "from keras.utils import plot_model"
      ],
      "metadata": {
        "id": "y9BAI9rlChfi"
      },
      "execution_count": null,
      "outputs": []
    },
    {
      "cell_type": "code",
      "source": [
        "plot_model(model, to_file='cnn_model_mnist.png', show_shapes=True)"
      ],
      "metadata": {
        "id": "CccCW-CkClHS",
        "colab": {
          "base_uri": "https://localhost:8080/",
          "height": 976
        },
        "outputId": "646eb0a3-b54e-44c4-e307-f01d0de42487"
      },
      "execution_count": null,
      "outputs": [
        {
          "output_type": "execute_result",
          "data": {
            "image/png": "[encoded data removed]",
            "text/plain": [
              "<IPython.core.display.Image object>"
            ]
          },
          "metadata": {},
          "execution_count": 27
        }
      ]
    },
    {
      "cell_type": "markdown",
      "source": [
        "### Train the model"
      ],
      "metadata": {
        "id": "jmG2h34I_Ld0"
      }
    },
    {
      "cell_type": "code",
      "source": [
        "model.fit(X_train, y_train, epochs=50, batch_size= 128\n",
        "          , validation_data = (X_test,y_test)\n",
        "          , callbacks=[early_stop],verbose=1)"
      ],
      "metadata": {
        "colab": {
          "base_uri": "https://localhost:8080/"
        },
        "id": "4JqkPVDxwhul",
        "outputId": "3d9da5e8-6644-4c0a-c51d-e351db53f7cc"
      },
      "execution_count": null,
      "outputs": [
        {
          "output_type": "stream",
          "name": "stdout",
          "text": [
            "Epoch 1/50\n",
            "469/469 [==============================] - 13s 9ms/step - loss: 0.2885 - accuracy: 0.9110 - val_loss: 0.0525 - val_accuracy: 0.9837\n",
            "Epoch 2/50\n",
            "469/469 [==============================] - 4s 8ms/step - loss: 0.1006 - accuracy: 0.9690 - val_loss: 0.0377 - val_accuracy: 0.9876\n",
            "Epoch 3/50\n",
            "469/469 [==============================] - 4s 8ms/step - loss: 0.0800 - accuracy: 0.9754 - val_loss: 0.0320 - val_accuracy: 0.9894\n",
            "Epoch 4/50\n",
            "469/469 [==============================] - 4s 8ms/step - loss: 0.0680 - accuracy: 0.9794 - val_loss: 0.0285 - val_accuracy: 0.9905\n",
            "Epoch 5/50\n",
            "469/469 [==============================] - 4s 8ms/step - loss: 0.0600 - accuracy: 0.9810 - val_loss: 0.0270 - val_accuracy: 0.9912\n",
            "Epoch 6/50\n",
            "469/469 [==============================] - 4s 8ms/step - loss: 0.0571 - accuracy: 0.9825 - val_loss: 0.0266 - val_accuracy: 0.9915\n",
            "Epoch 7/50\n",
            "469/469 [==============================] - 4s 8ms/step - loss: 0.0518 - accuracy: 0.9844 - val_loss: 0.0257 - val_accuracy: 0.9927\n",
            "Epoch 8/50\n",
            "469/469 [==============================] - 4s 9ms/step - loss: 0.0476 - accuracy: 0.9850 - val_loss: 0.0212 - val_accuracy: 0.9932\n",
            "Epoch 9/50\n",
            "469/469 [==============================] - 4s 9ms/step - loss: 0.0454 - accuracy: 0.9856 - val_loss: 0.0228 - val_accuracy: 0.9933\n",
            "Epoch 10/50\n",
            "469/469 [==============================] - 4s 9ms/step - loss: 0.0441 - accuracy: 0.9855 - val_loss: 0.0251 - val_accuracy: 0.9925\n",
            "Epoch 11/50\n",
            "469/469 [==============================] - 4s 8ms/step - loss: 0.0400 - accuracy: 0.9876 - val_loss: 0.0205 - val_accuracy: 0.9931\n",
            "Epoch 12/50\n",
            "469/469 [==============================] - 4s 8ms/step - loss: 0.0385 - accuracy: 0.9877 - val_loss: 0.0226 - val_accuracy: 0.9936\n",
            "Epoch 13/50\n",
            "469/469 [==============================] - 4s 8ms/step - loss: 0.0360 - accuracy: 0.9879 - val_loss: 0.0223 - val_accuracy: 0.9935\n",
            "Epoch 14/50\n",
            "469/469 [==============================] - 4s 8ms/step - loss: 0.0377 - accuracy: 0.9880 - val_loss: 0.0198 - val_accuracy: 0.9940\n",
            "Epoch 15/50\n",
            "469/469 [==============================] - 4s 8ms/step - loss: 0.0349 - accuracy: 0.9883 - val_loss: 0.0212 - val_accuracy: 0.9931\n",
            "Epoch 16/50\n",
            "469/469 [==============================] - 4s 8ms/step - loss: 0.0332 - accuracy: 0.9895 - val_loss: 0.0219 - val_accuracy: 0.9924\n",
            "Epoch 17/50\n",
            "469/469 [==============================] - 4s 8ms/step - loss: 0.0326 - accuracy: 0.9894 - val_loss: 0.0208 - val_accuracy: 0.9945\n",
            "Epoch 18/50\n",
            "469/469 [==============================] - 4s 8ms/step - loss: 0.0311 - accuracy: 0.9901 - val_loss: 0.0230 - val_accuracy: 0.9932\n",
            "Epoch 19/50\n",
            "469/469 [==============================] - 4s 8ms/step - loss: 0.0309 - accuracy: 0.9899 - val_loss: 0.0203 - val_accuracy: 0.9937\n",
            "Epoch 20/50\n",
            "469/469 [==============================] - 4s 8ms/step - loss: 0.0303 - accuracy: 0.9902 - val_loss: 0.0243 - val_accuracy: 0.9933\n",
            "Epoch 21/50\n",
            "469/469 [==============================] - 4s 8ms/step - loss: 0.0291 - accuracy: 0.9907 - val_loss: 0.0231 - val_accuracy: 0.9938\n",
            "Epoch 22/50\n",
            "469/469 [==============================] - 4s 8ms/step - loss: 0.0265 - accuracy: 0.9913 - val_loss: 0.0212 - val_accuracy: 0.9943\n",
            "Epoch 23/50\n",
            "469/469 [==============================] - 4s 9ms/step - loss: 0.0269 - accuracy: 0.9909 - val_loss: 0.0210 - val_accuracy: 0.9947\n",
            "Epoch 24/50\n",
            "469/469 [==============================] - 4s 8ms/step - loss: 0.0265 - accuracy: 0.9914 - val_loss: 0.0212 - val_accuracy: 0.9942\n",
            "Epoch 25/50\n",
            "469/469 [==============================] - 4s 8ms/step - loss: 0.0249 - accuracy: 0.9915 - val_loss: 0.0203 - val_accuracy: 0.9941\n",
            "Epoch 26/50\n",
            "469/469 [==============================] - 4s 8ms/step - loss: 0.0263 - accuracy: 0.9914 - val_loss: 0.0214 - val_accuracy: 0.9941\n",
            "Epoch 27/50\n",
            "469/469 [==============================] - 4s 8ms/step - loss: 0.0245 - accuracy: 0.9922 - val_loss: 0.0223 - val_accuracy: 0.9936\n",
            "Epoch 28/50\n",
            "469/469 [==============================] - 4s 8ms/step - loss: 0.0245 - accuracy: 0.9920 - val_loss: 0.0201 - val_accuracy: 0.9945\n",
            "Epoch 29/50\n",
            "469/469 [==============================] - 4s 9ms/step - loss: 0.0232 - accuracy: 0.9919 - val_loss: 0.0200 - val_accuracy: 0.9946\n",
            "Epoch 30/50\n",
            "469/469 [==============================] - 4s 8ms/step - loss: 0.0228 - accuracy: 0.9924 - val_loss: 0.0205 - val_accuracy: 0.9943\n",
            "Epoch 31/50\n",
            "469/469 [==============================] - 4s 8ms/step - loss: 0.0220 - accuracy: 0.9926 - val_loss: 0.0209 - val_accuracy: 0.9946\n",
            "Epoch 32/50\n",
            "469/469 [==============================] - 4s 8ms/step - loss: 0.0219 - accuracy: 0.9928 - val_loss: 0.0211 - val_accuracy: 0.9939\n",
            "Epoch 33/50\n",
            "469/469 [==============================] - 4s 8ms/step - loss: 0.0236 - accuracy: 0.9923 - val_loss: 0.0208 - val_accuracy: 0.9942\n",
            "Epoch 34/50\n",
            "469/469 [==============================] - 4s 8ms/step - loss: 0.0214 - accuracy: 0.9932 - val_loss: 0.0214 - val_accuracy: 0.9946\n",
            "Epoch 35/50\n",
            "469/469 [==============================] - 4s 8ms/step - loss: 0.0211 - accuracy: 0.9932 - val_loss: 0.0204 - val_accuracy: 0.9942\n",
            "Epoch 36/50\n",
            "469/469 [==============================] - 4s 8ms/step - loss: 0.0215 - accuracy: 0.9929 - val_loss: 0.0200 - val_accuracy: 0.9945\n",
            "Epoch 37/50\n",
            "469/469 [==============================] - 4s 8ms/step - loss: 0.0203 - accuracy: 0.9934 - val_loss: 0.0198 - val_accuracy: 0.9947\n",
            "Epoch 38/50\n",
            "469/469 [==============================] - 4s 8ms/step - loss: 0.0200 - accuracy: 0.9934 - val_loss: 0.0203 - val_accuracy: 0.9943\n",
            "Epoch 39/50\n",
            "469/469 [==============================] - 4s 8ms/step - loss: 0.0213 - accuracy: 0.9929 - val_loss: 0.0225 - val_accuracy: 0.9950\n",
            "Epoch 39: early stopping\n"
          ]
        },
        {
          "output_type": "execute_result",
          "data": {
            "text/plain": [
              "<keras.callbacks.History at 0x7f22e046d4d0>"
            ]
          },
          "metadata": {},
          "execution_count": 28
        }
      ]
    },
    {
      "cell_type": "markdown",
      "source": [
        "### Model evaluation "
      ],
      "metadata": {
        "id": "eQaYmqOiCzdy"
      }
    },
    {
      "cell_type": "code",
      "source": [
        "#Compute the loss function\n",
        "losses = pd.DataFrame(model.history.history)\n",
        "losses"
      ],
      "metadata": {
        "id": "hheFXdUY_sfb",
        "colab": {
          "base_uri": "https://localhost:8080/",
          "height": 1000
        },
        "outputId": "ef0936ae-94d0-4f42-9891-60bad810f030"
      },
      "execution_count": null,
      "outputs": [
        {
          "output_type": "execute_result",
          "data": {
            "text/plain": [
              "        loss  accuracy  val_loss  val_accuracy\n",
              "0   0.288535  0.911017  0.052454        0.9837\n",
              "1   0.100640  0.969033  0.037710        0.9876\n",
              "2   0.080002  0.975350  0.032013        0.9894\n",
              "3   0.067971  0.979383  0.028502        0.9905\n",
              "4   0.059994  0.981033  0.027017        0.9912\n",
              "5   0.057140  0.982517  0.026563        0.9915\n",
              "6   0.051838  0.984450  0.025678        0.9927\n",
              "7   0.047591  0.985033  0.021180        0.9932\n",
              "8   0.045413  0.985567  0.022753        0.9933\n",
              "9   0.044082  0.985450  0.025110        0.9925\n",
              "10  0.039996  0.987550  0.020483        0.9931\n",
              "11  0.038515  0.987717  0.022572        0.9936\n",
              "12  0.035967  0.987917  0.022331        0.9935\n",
              "13  0.037662  0.988000  0.019777        0.9940\n",
              "14  0.034935  0.988300  0.021200        0.9931\n",
              "15  0.033229  0.989467  0.021893        0.9924\n",
              "16  0.032570  0.989367  0.020767        0.9945\n",
              "17  0.031087  0.990150  0.022963        0.9932\n",
              "18  0.030922  0.989917  0.020281        0.9937\n",
              "19  0.030329  0.990250  0.024257        0.9933\n",
              "20  0.029139  0.990667  0.023121        0.9938\n",
              "21  0.026465  0.991333  0.021241        0.9943\n",
              "22  0.026905  0.990917  0.021002        0.9947\n",
              "23  0.026468  0.991417  0.021192        0.9942\n",
              "24  0.024882  0.991450  0.020349        0.9941\n",
              "25  0.026287  0.991400  0.021377        0.9941\n",
              "26  0.024512  0.992217  0.022324        0.9936\n",
              "27  0.024546  0.991967  0.020147        0.9945\n",
              "28  0.023241  0.991933  0.019971        0.9946\n",
              "29  0.022815  0.992400  0.020529        0.9943\n",
              "30  0.022023  0.992633  0.020916        0.9946\n",
              "31  0.021921  0.992783  0.021131        0.9939\n",
              "32  0.023626  0.992300  0.020773        0.9942\n",
              "33  0.021388  0.993167  0.021422        0.9946\n",
              "34  0.021113  0.993200  0.020414        0.9942\n",
              "35  0.021488  0.992917  0.019973        0.9945\n",
              "36  0.020269  0.993350  0.019818        0.9947\n",
              "37  0.020019  0.993417  0.020328        0.9943\n",
              "38  0.021253  0.992867  0.022484        0.9950"
            ],
            "text/html": [
              "\n",
              "  <div id=\"df-0eae9344-171c-4f72-8d73-6b7a4d95d651\">\n",
              "    <div class=\"colab-df-container\">\n",
              "      <div>\n",
              "<style scoped>\n",
              "    .dataframe tbody tr th:only-of-type {\n",
              "        vertical-align: middle;\n",
              "    }\n",
              "\n",
              "    .dataframe tbody tr th {\n",
              "        vertical-align: top;\n",
              "    }\n",
              "\n",
              "    .dataframe thead th {\n",
              "        text-align: right;\n",
              "    }\n",
              "</style>\n",
              "<table border=\"1\" class=\"dataframe\">\n",
              "  <thead>\n",
              "    <tr style=\"text-align: right;\">\n",
              "      <th></th>\n",
              "      <th>loss</th>\n",
              "      <th>accuracy</th>\n",
              "      <th>val_loss</th>\n",
              "      <th>val_accuracy</th>\n",
              "    </tr>\n",
              "  </thead>\n",
              "  <tbody>\n",
              "    <tr>\n",
              "      <th>0</th>\n",
              "      <td>0.288535</td>\n",
              "      <td>0.911017</td>\n",
              "      <td>0.052454</td>\n",
              "      <td>0.9837</td>\n",
              "    </tr>\n",
              "    <tr>\n",
              "      <th>1</th>\n",
              "      <td>0.100640</td>\n",
              "      <td>0.969033</td>\n",
              "      <td>0.037710</td>\n",
              "      <td>0.9876</td>\n",
              "    </tr>\n",
              "    <tr>\n",
              "      <th>2</th>\n",
              "      <td>0.080002</td>\n",
              "      <td>0.975350</td>\n",
              "      <td>0.032013</td>\n",
              "      <td>0.9894</td>\n",
              "    </tr>\n",
              "    <tr>\n",
              "      <th>3</th>\n",
              "      <td>0.067971</td>\n",
              "      <td>0.979383</td>\n",
              "      <td>0.028502</td>\n",
              "      <td>0.9905</td>\n",
              "    </tr>\n",
              "    <tr>\n",
              "      <th>4</th>\n",
              "      <td>0.059994</td>\n",
              "      <td>0.981033</td>\n",
              "      <td>0.027017</td>\n",
              "      <td>0.9912</td>\n",
              "    </tr>\n",
              "    <tr>\n",
              "      <th>5</th>\n",
              "      <td>0.057140</td>\n",
              "      <td>0.982517</td>\n",
              "      <td>0.026563</td>\n",
              "      <td>0.9915</td>\n",
              "    </tr>\n",
              "    <tr>\n",
              "      <th>6</th>\n",
              "      <td>0.051838</td>\n",
              "      <td>0.984450</td>\n",
              "      <td>0.025678</td>\n",
              "      <td>0.9927</td>\n",
              "    </tr>\n",
              "    <tr>\n",
              "      <th>7</th>\n",
              "      <td>0.047591</td>\n",
              "      <td>0.985033</td>\n",
              "      <td>0.021180</td>\n",
              "      <td>0.9932</td>\n",
              "    </tr>\n",
              "    <tr>\n",
              "      <th>8</th>\n",
              "      <td>0.045413</td>\n",
              "      <td>0.985567</td>\n",
              "      <td>0.022753</td>\n",
              "      <td>0.9933</td>\n",
              "    </tr>\n",
              "    <tr>\n",
              "      <th>9</th>\n",
              "      <td>0.044082</td>\n",
              "      <td>0.985450</td>\n",
              "      <td>0.025110</td>\n",
              "      <td>0.9925</td>\n",
              "    </tr>\n",
              "    <tr>\n",
              "      <th>10</th>\n",
              "      <td>0.039996</td>\n",
              "      <td>0.987550</td>\n",
              "      <td>0.020483</td>\n",
              "      <td>0.9931</td>\n",
              "    </tr>\n",
              "    <tr>\n",
              "      <th>11</th>\n",
              "      <td>0.038515</td>\n",
              "      <td>0.987717</td>\n",
              "      <td>0.022572</td>\n",
              "      <td>0.9936</td>\n",
              "    </tr>\n",
              "    <tr>\n",
              "      <th>12</th>\n",
              "      <td>0.035967</td>\n",
              "      <td>0.987917</td>\n",
              "      <td>0.022331</td>\n",
              "      <td>0.9935</td>\n",
              "    </tr>\n",
              "    <tr>\n",
              "      <th>13</th>\n",
              "      <td>0.037662</td>\n",
              "      <td>0.988000</td>\n",
              "      <td>0.019777</td>\n",
              "      <td>0.9940</td>\n",
              "    </tr>\n",
              "    <tr>\n",
              "      <th>14</th>\n",
              "      <td>0.034935</td>\n",
              "      <td>0.988300</td>\n",
              "      <td>0.021200</td>\n",
              "      <td>0.9931</td>\n",
              "    </tr>\n",
              "    <tr>\n",
              "      <th>15</th>\n",
              "      <td>0.033229</td>\n",
              "      <td>0.989467</td>\n",
              "      <td>0.021893</td>\n",
              "      <td>0.9924</td>\n",
              "    </tr>\n",
              "    <tr>\n",
              "      <th>16</th>\n",
              "      <td>0.032570</td>\n",
              "      <td>0.989367</td>\n",
              "      <td>0.020767</td>\n",
              "      <td>0.9945</td>\n",
              "    </tr>\n",
              "    <tr>\n",
              "      <th>17</th>\n",
              "      <td>0.031087</td>\n",
              "      <td>0.990150</td>\n",
              "      <td>0.022963</td>\n",
              "      <td>0.9932</td>\n",
              "    </tr>\n",
              "    <tr>\n",
              "      <th>18</th>\n",
              "      <td>0.030922</td>\n",
              "      <td>0.989917</td>\n",
              "      <td>0.020281</td>\n",
              "      <td>0.9937</td>\n",
              "    </tr>\n",
              "    <tr>\n",
              "      <th>19</th>\n",
              "      <td>0.030329</td>\n",
              "      <td>0.990250</td>\n",
              "      <td>0.024257</td>\n",
              "      <td>0.9933</td>\n",
              "    </tr>\n",
              "    <tr>\n",
              "      <th>20</th>\n",
              "      <td>0.029139</td>\n",
              "      <td>0.990667</td>\n",
              "      <td>0.023121</td>\n",
              "      <td>0.9938</td>\n",
              "    </tr>\n",
              "    <tr>\n",
              "      <th>21</th>\n",
              "      <td>0.026465</td>\n",
              "      <td>0.991333</td>\n",
              "      <td>0.021241</td>\n",
              "      <td>0.9943</td>\n",
              "    </tr>\n",
              "    <tr>\n",
              "      <th>22</th>\n",
              "      <td>0.026905</td>\n",
              "      <td>0.990917</td>\n",
              "      <td>0.021002</td>\n",
              "      <td>0.9947</td>\n",
              "    </tr>\n",
              "    <tr>\n",
              "      <th>23</th>\n",
              "      <td>0.026468</td>\n",
              "      <td>0.991417</td>\n",
              "      <td>0.021192</td>\n",
              "      <td>0.9942</td>\n",
              "    </tr>\n",
              "    <tr>\n",
              "      <th>24</th>\n",
              "      <td>0.024882</td>\n",
              "      <td>0.991450</td>\n",
              "      <td>0.020349</td>\n",
              "      <td>0.9941</td>\n",
              "    </tr>\n",
              "    <tr>\n",
              "      <th>25</th>\n",
              "      <td>0.026287</td>\n",
              "      <td>0.991400</td>\n",
              "      <td>0.021377</td>\n",
              "      <td>0.9941</td>\n",
              "    </tr>\n",
              "    <tr>\n",
              "      <th>26</th>\n",
              "      <td>0.024512</td>\n",
              "      <td>0.992217</td>\n",
              "      <td>0.022324</td>\n",
              "      <td>0.9936</td>\n",
              "    </tr>\n",
              "    <tr>\n",
              "      <th>27</th>\n",
              "      <td>0.024546</td>\n",
              "      <td>0.991967</td>\n",
              "      <td>0.020147</td>\n",
              "      <td>0.9945</td>\n",
              "    </tr>\n",
              "    <tr>\n",
              "      <th>28</th>\n",
              "      <td>0.023241</td>\n",
              "      <td>0.991933</td>\n",
              "      <td>0.019971</td>\n",
              "      <td>0.9946</td>\n",
              "    </tr>\n",
              "    <tr>\n",
              "      <th>29</th>\n",
              "      <td>0.022815</td>\n",
              "      <td>0.992400</td>\n",
              "      <td>0.020529</td>\n",
              "      <td>0.9943</td>\n",
              "    </tr>\n",
              "    <tr>\n",
              "      <th>30</th>\n",
              "      <td>0.022023</td>\n",
              "      <td>0.992633</td>\n",
              "      <td>0.020916</td>\n",
              "      <td>0.9946</td>\n",
              "    </tr>\n",
              "    <tr>\n",
              "      <th>31</th>\n",
              "      <td>0.021921</td>\n",
              "      <td>0.992783</td>\n",
              "      <td>0.021131</td>\n",
              "      <td>0.9939</td>\n",
              "    </tr>\n",
              "    <tr>\n",
              "      <th>32</th>\n",
              "      <td>0.023626</td>\n",
              "      <td>0.992300</td>\n",
              "      <td>0.020773</td>\n",
              "      <td>0.9942</td>\n",
              "    </tr>\n",
              "    <tr>\n",
              "      <th>33</th>\n",
              "      <td>0.021388</td>\n",
              "      <td>0.993167</td>\n",
              "      <td>0.021422</td>\n",
              "      <td>0.9946</td>\n",
              "    </tr>\n",
              "    <tr>\n",
              "      <th>34</th>\n",
              "      <td>0.021113</td>\n",
              "      <td>0.993200</td>\n",
              "      <td>0.020414</td>\n",
              "      <td>0.9942</td>\n",
              "    </tr>\n",
              "    <tr>\n",
              "      <th>35</th>\n",
              "      <td>0.021488</td>\n",
              "      <td>0.992917</td>\n",
              "      <td>0.019973</td>\n",
              "      <td>0.9945</td>\n",
              "    </tr>\n",
              "    <tr>\n",
              "      <th>36</th>\n",
              "      <td>0.020269</td>\n",
              "      <td>0.993350</td>\n",
              "      <td>0.019818</td>\n",
              "      <td>0.9947</td>\n",
              "    </tr>\n",
              "    <tr>\n",
              "      <th>37</th>\n",
              "      <td>0.020019</td>\n",
              "      <td>0.993417</td>\n",
              "      <td>0.020328</td>\n",
              "      <td>0.9943</td>\n",
              "    </tr>\n",
              "    <tr>\n",
              "      <th>38</th>\n",
              "      <td>0.021253</td>\n",
              "      <td>0.992867</td>\n",
              "      <td>0.022484</td>\n",
              "      <td>0.9950</td>\n",
              "    </tr>\n",
              "  </tbody>\n",
              "</table>\n",
              "</div>\n",
              "      <button class=\"colab-df-convert\" onclick=\"convertToInteractive('df-0eae9344-171c-4f72-8d73-6b7a4d95d651')\"\n",
              "              title=\"Convert this dataframe to an interactive table.\"\n",
              "              style=\"display:none;\">\n",
              "        \n",
              "  <svg xmlns=\"http://www.w3.org/2000/svg\" height=\"24px\"viewBox=\"0 0 24 24\"\n",
              "       width=\"24px\">\n",
              "    <path d=\"M0 0h24v24H0V0z\" fill=\"none\"/>\n",
              "    <path d=\"M18.56 5.44l.94 2.06.94-2.06 2.06-.94-2.06-.94-.94-2.06-.94 2.06-2.06.94zm-11 1L8.5 8.5l.94-2.06 2.06-.94-2.06-.94L8.5 2.5l-.94 2.06-2.06.94zm10 10l.94 2.06.94-2.06 2.06-.94-2.06-.94-.94-2.06-.94 2.06-2.06.94z\"/><path d=\"M17.41 7.96l-1.37-1.37c-.4-.4-.92-.59-1.43-.59-.52 0-1.04.2-1.43.59L10.3 9.45l-7.72 7.72c-.78.78-.78 2.05 0 2.83L4 21.41c.39.39.9.59 1.41.59.51 0 1.02-.2 1.41-.59l7.78-7.78 2.81-2.81c.8-.78.8-2.07 0-2.86zM5.41 20L4 18.59l7.72-7.72 1.47 1.35L5.41 20z\"/>\n",
              "  </svg>\n",
              "      </button>\n",
              "      \n",
              "  <style>\n",
              "    .colab-df-container {\n",
              "      display:flex;\n",
              "      flex-wrap:wrap;\n",
              "      gap: 12px;\n",
              "    }\n",
              "\n",
              "    .colab-df-convert {\n",
              "      background-color: #E8F0FE;\n",
              "      border: none;\n",
              "      border-radius: 50%;\n",
              "      cursor: pointer;\n",
              "      display: none;\n",
              "      fill: #1967D2;\n",
              "      height: 32px;\n",
              "      padding: 0 0 0 0;\n",
              "      width: 32px;\n",
              "    }\n",
              "\n",
              "    .colab-df-convert:hover {\n",
              "      background-color: #E2EBFA;\n",
              "      box-shadow: 0px 1px 2px rgba(60, 64, 67, 0.3), 0px 1px 3px 1px rgba(60, 64, 67, 0.15);\n",
              "      fill: #174EA6;\n",
              "    }\n",
              "\n",
              "    [theme=dark] .colab-df-convert {\n",
              "      background-color: #3B4455;\n",
              "      fill: #D2E3FC;\n",
              "    }\n",
              "\n",
              "    [theme=dark] .colab-df-convert:hover {\n",
              "      background-color: #434B5C;\n",
              "      box-shadow: 0px 1px 3px 1px rgba(0, 0, 0, 0.15);\n",
              "      filter: drop-shadow(0px 1px 2px rgba(0, 0, 0, 0.3));\n",
              "      fill: #FFFFFF;\n",
              "    }\n",
              "  </style>\n",
              "\n",
              "      <script>\n",
              "        const buttonEl =\n",
              "          document.querySelector('#df-0eae9344-171c-4f72-8d73-6b7a4d95d651 button.colab-df-convert');\n",
              "        buttonEl.style.display =\n",
              "          google.colab.kernel.accessAllowed ? 'block' : 'none';\n",
              "\n",
              "        async function convertToInteractive(key) {\n",
              "          const element = document.querySelector('#df-0eae9344-171c-4f72-8d73-6b7a4d95d651');\n",
              "          const dataTable =\n",
              "            await google.colab.kernel.invokeFunction('convertToInteractive',\n",
              "                                                     [key], {});\n",
              "          if (!dataTable) return;\n",
              "\n",
              "          const docLinkHtml = 'Like what you see? Visit the ' +\n",
              "            '<a target=\"_blank\" href=https://colab.research.google.com/notebooks/data_table.ipynb>data table notebook</a>'\n",
              "            + ' to learn more about interactive tables.';\n",
              "          element.innerHTML = '';\n",
              "          dataTable['output_type'] = 'display_data';\n",
              "          await google.colab.output.renderOutput(dataTable, element);\n",
              "          const docLink = document.createElement('div');\n",
              "          docLink.innerHTML = docLinkHtml;\n",
              "          element.appendChild(docLink);\n",
              "        }\n",
              "      </script>\n",
              "    </div>\n",
              "  </div>\n",
              "  "
            ]
          },
          "metadata": {},
          "execution_count": 29
        }
      ]
    },
    {
      "cell_type": "code",
      "source": [
        "losses.plot()"
      ],
      "metadata": {
        "colab": {
          "base_uri": "https://localhost:8080/",
          "height": 282
        },
        "id": "wwdHCMpnBS28",
        "outputId": "d7ac4df0-b02e-423e-b213-f822ad97cd67"
      },
      "execution_count": null,
      "outputs": [
        {
          "output_type": "execute_result",
          "data": {
            "text/plain": [
              "<matplotlib.axes._subplots.AxesSubplot at 0x7f23466d9990>"
            ]
          },
          "metadata": {},
          "execution_count": 37
        },
        {
          "output_type": "display_data",
          "data": {
            "text/plain": [
              "<Figure size 432x288 with 1 Axes>"
            ],
            "image/png": "[encoded data removed]"
          },
          "metadata": {
            "needs_background": "light"
          }
        }
      ]
    },
    {
      "cell_type": "code",
      "source": [
        "# Compute predicted values based on the X_test:\n",
        "y_predict = np.argmax(model.predict(X_test),axis=1)"
      ],
      "metadata": {
        "colab": {
          "base_uri": "https://localhost:8080/"
        },
        "id": "Q12saJqgHhS0",
        "outputId": "d848f0f6-4c98-4c7c-9194-a58157a90eb2"
      },
      "execution_count": null,
      "outputs": [
        {
          "output_type": "stream",
          "name": "stdout",
          "text": [
            "313/313 [==============================] - 1s 2ms/step\n"
          ]
        }
      ]
    },
    {
      "cell_type": "code",
      "source": [
        "#Convert one-hot encode to 1D vector of labels\n",
        "y_test_list = np.argmax(y_test,axis=1)"
      ],
      "metadata": {
        "id": "BXNBMewZJ3_-"
      },
      "execution_count": null,
      "outputs": []
    },
    {
      "cell_type": "code",
      "source": [
        "print(y_predict)\n",
        "print(y_test_list)"
      ],
      "metadata": {
        "colab": {
          "base_uri": "https://localhost:8080/"
        },
        "id": "Fc9U7RDYHlE0",
        "outputId": "4ba1e448-9102-47ea-a404-bdf4901ae806"
      },
      "execution_count": null,
      "outputs": [
        {
          "output_type": "stream",
          "name": "stdout",
          "text": [
            "[7 2 1 ... 4 5 6]\n",
            "[7 2 1 ... 4 5 6]\n"
          ]
        }
      ]
    },
    {
      "cell_type": "code",
      "source": [
        "from sklearn.metrics import classification_report, confusion_matrix"
      ],
      "metadata": {
        "id": "1XMhqDI0H4L8"
      },
      "execution_count": null,
      "outputs": []
    },
    {
      "cell_type": "code",
      "source": [
        "plt.figure(figsize=(16,8))\n",
        "fx=sns.heatmap(confusion_matrix(y_test_list,y_predict), annot=True, fmt=\".2f\",cmap=\"GnBu\")\n",
        "fx.set_title('Confusion Matrix \\n');\n",
        "fx.set_xlabel('\\n Predicted Values\\n')\n",
        "fx.set_ylabel('Actual Values\\n');\n",
        "fx.xaxis.set_ticklabels(n_labels)\n",
        "fx.yaxis.set_ticklabels(n_labels)\n",
        "plt.show()"
      ],
      "metadata": {
        "colab": {
          "base_uri": "https://localhost:8080/",
          "height": 551
        },
        "id": "tcIjDd97IP09",
        "outputId": "e289e02f-2d10-4f06-f132-cadcd97bd77c"
      },
      "execution_count": null,
      "outputs": [
        {
          "output_type": "display_data",
          "data": {
            "text/plain": [
              "<Figure size 1152x576 with 2 Axes>"
            ],
            "image/png": "[encoded data removed]"
          },
          "metadata": {
            "needs_background": "light"
          }
        }
      ]
    },
    {
      "cell_type": "code",
      "source": [
        "print(classification_report(y_test_list,y_predict))"
      ],
      "metadata": {
        "colab": {
          "base_uri": "https://localhost:8080/"
        },
        "id": "qyhky6j-IKMF",
        "outputId": "c9bee281-ab3c-41b8-f4ad-8fdd0296bb6f"
      },
      "execution_count": null,
      "outputs": [
        {
          "output_type": "stream",
          "name": "stdout",
          "text": [
            "              precision    recall  f1-score   support\n",
            "\n",
            "           0       0.99      1.00      1.00       980\n",
            "           1       1.00      1.00      1.00      1135\n",
            "           2       0.99      1.00      0.99      1032\n",
            "           3       1.00      1.00      1.00      1010\n",
            "           4       0.99      1.00      1.00       982\n",
            "           5       0.99      1.00      0.99       892\n",
            "           6       0.99      0.99      0.99       958\n",
            "           7       0.99      0.99      0.99      1028\n",
            "           8       0.99      0.99      0.99       974\n",
            "           9       1.00      0.99      0.99      1009\n",
            "\n",
            "    accuracy                           0.99     10000\n",
            "   macro avg       0.99      0.99      0.99     10000\n",
            "weighted avg       0.99      0.99      0.99     10000\n",
            "\n"
          ]
        }
      ]
    },
    {
      "cell_type": "markdown",
      "source": [
        "The accuracy of the model is 99% with good prediction for the handwriting of number 0,1,3,4"
      ],
      "metadata": {
        "id": "Fc1gzsA-L13v"
      }
    },
    {
      "cell_type": "markdown",
      "source": [
        "### Save the model"
      ],
      "metadata": {
        "id": "9_6yzoN0NNIT"
      }
    },
    {
      "cell_type": "code",
      "source": [
        "model.save('cnn_model_mnist')"
      ],
      "metadata": {
        "id": "P90buJNoNPLN",
        "colab": {
          "base_uri": "https://localhost:8080/"
        },
        "outputId": "b2d01299-fe71-4ec0-b37f-34b6b437f0b3"
      },
      "execution_count": null,
      "outputs": [
        {
          "output_type": "stream",
          "name": "stderr",
          "text": [
            "WARNING:absl:Found untraced functions such as _jit_compiled_convolution_op, _jit_compiled_convolution_op while saving (showing 2 of 2). These functions will not be directly callable after loading.\n"
          ]
        }
      ]
    }
  ]
}