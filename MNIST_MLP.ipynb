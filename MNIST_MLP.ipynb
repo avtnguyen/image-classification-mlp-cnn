{
  "nbformat": 4,
  "nbformat_minor": 0,
  "metadata": {
    "colab": {
      "provenance": [],
      "collapsed_sections": [
        "_Mjhdf9I7ESP"
      ],
      "toc_visible": true
    },
    "kernelspec": {
      "name": "python3",
      "display_name": "Python 3"
    },
    "language_info": {
      "name": "python"
    }
  },
  "cells": [
    {
      "cell_type": "markdown",
      "source": [
        "# Image recognition with MNIST dataset"
      ],
      "metadata": {
        "id": "rD58IF-_o2mx"
      }
    },
    {
      "cell_type": "markdown",
      "source": [
        "## Import MNIST dataset and visualize the dataset"
      ],
      "metadata": {
        "id": "_Mjhdf9I7ESP"
      }
    },
    {
      "cell_type": "code",
      "source": [
        "# Import library\n",
        "import numpy as np\n",
        "import pandas as pd\n",
        "import seaborn as sns\n",
        "import matplotlib.pyplot as plt\n",
        "%matplotlib inline"
      ],
      "metadata": {
        "id": "H545TaHlvjdI"
      },
      "execution_count": null,
      "outputs": []
    },
    {
      "cell_type": "code",
      "source": [
        "# Load MNIST dataset from tensorflow\n",
        "from tensorflow.keras.datasets import mnist"
      ],
      "metadata": {
        "id": "MJdaVwnHpRex"
      },
      "execution_count": null,
      "outputs": []
    },
    {
      "cell_type": "code",
      "source": [
        "(X_train, y_train), (X_test, y_test) = mnist.load_data()"
      ],
      "metadata": {
        "colab": {
          "base_uri": "https://localhost:8080/"
        },
        "id": "xY67o7rXpdXB",
        "outputId": "d3809c83-49c9-4321-9334-9671ad6ea128"
      },
      "execution_count": null,
      "outputs": [
        {
          "output_type": "stream",
          "name": "stdout",
          "text": [
            "Downloading data from https://storage.googleapis.com/tensorflow/tf-keras-datasets/mnist.npz\n",
            "11490434/11490434 [==============================] - 1s 0us/step\n"
          ]
        }
      ]
    },
    {
      "cell_type": "code",
      "source": [
        "print('Train data shape:', X_train.shape, y_train.shape)\n",
        "print('Test data shape:', X_test.shape, y_test.shape)\n",
        "\n",
        "#Count number of unique train labels:\n",
        "train_unique,train_counts = np.unique(y_train, return_counts=True)\n",
        "print('Train labels:', dict(zip(train_unique,train_counts)))\n",
        "\n",
        "#Count number of unique train labels:\n",
        "test_unique,test_counts = np.unique(y_test, return_counts=True)\n",
        "print('Test labels:', dict(zip(test_unique,test_counts)))"
      ],
      "metadata": {
        "colab": {
          "base_uri": "https://localhost:8080/"
        },
        "id": "VCe2OuwJpjL5",
        "outputId": "b81f659a-3989-4bfc-ae13-8f2d4394ee9f"
      },
      "execution_count": null,
      "outputs": [
        {
          "output_type": "stream",
          "name": "stdout",
          "text": [
            "Train data shape: (60000, 28, 28) (60000,)\n",
            "Test data shape: (10000, 28, 28) (10000,)\n",
            "Train labels: {0: 5923, 1: 6742, 2: 5958, 3: 6131, 4: 5842, 5: 5421, 6: 5918, 7: 6265, 8: 5851, 9: 5949}\n",
            "Test labels: {0: 980, 1: 1135, 2: 1032, 3: 1010, 4: 982, 5: 892, 6: 958, 7: 1028, 8: 974, 9: 1009}\n"
          ]
        }
      ]
    },
    {
      "cell_type": "code",
      "source": [
        "fig, (ax1,ax2) = plt.subplots(1,2,figsize = (18, 6))\n",
        "sns.countplot(y_train,color = 'grey',ax=ax1)\n",
        "ax1.set_title('Count plot for each digit from 0 to 9 in train dataset')\n",
        "\n",
        "sns.countplot(y_test,color = 'grey',ax=ax2)\n",
        "ax2.set_title('Count plot for each digit from 0 to 9 in test dataset')"
      ],
      "metadata": {
        "colab": {
          "base_uri": "https://localhost:8080/",
          "height": 497
        },
        "id": "9UpZcvwl3Fxl",
        "outputId": "64c94868-9dc3-4c6d-8ff5-b9fd38db4e6d"
      },
      "execution_count": null,
      "outputs": [
        {
          "output_type": "stream",
          "name": "stderr",
          "text": [
            "/usr/local/lib/python3.7/dist-packages/seaborn/_decorators.py:43: FutureWarning: Pass the following variable as a keyword arg: x. From version 0.12, the only valid positional argument will be `data`, and passing other arguments without an explicit keyword will result in an error or misinterpretation.\n",
            "  FutureWarning\n",
            "/usr/local/lib/python3.7/dist-packages/seaborn/_decorators.py:43: FutureWarning: Pass the following variable as a keyword arg: x. From version 0.12, the only valid positional argument will be `data`, and passing other arguments without an explicit keyword will result in an error or misinterpretation.\n",
            "  FutureWarning\n"
          ]
        },
        {
          "output_type": "execute_result",
          "data": {
            "text/plain": [
              "Text(0.5, 1.0, 'Count plot for each digit from 0 to 9 in test dataset')"
            ]
          },
          "metadata": {},
          "execution_count": 5
        },
        {
          "output_type": "display_data",
          "data": {
            "text/plain": [
              "<Figure size 1296x432 with 2 Axes>"
            ],
            "image/png": "[encoded data removed]"
          },
          "metadata": {
            "needs_background": "light"
          }
        }
      ]
    },
    {
      "cell_type": "markdown",
      "source": [
        "Test and train dataset has similar distribution and equally distributed"
      ],
      "metadata": {
        "id": "FVfBOqF85ePt"
      }
    },
    {
      "cell_type": "code",
      "source": [
        "# Display the first 25 image in training dataset:\n",
        "plt.figure(figsize=(5,7))\n",
        "for i in range(25):\n",
        "  plt.subplot(5,5,i+1)\n",
        "  plt.imshow(X_train[i], cmap='gray') \n",
        "  plt.title(y_train[i])\n",
        "  plt.axis('off')"
      ],
      "metadata": {
        "colab": {
          "base_uri": "https://localhost:8080/",
          "height": 410
        },
        "id": "-1zF3kBaplI5",
        "outputId": "3fc18889-3428-4114-de6f-3d8a3c56bcec"
      },
      "execution_count": null,
      "outputs": [
        {
          "output_type": "display_data",
          "data": {
            "text/plain": [
              "<Figure size 360x504 with 25 Axes>"
            ],
            "image/png": "[encoded data removed]"
          },
          "metadata": {
            "needs_background": "light"
          }
        }
      ]
    },
    {
      "cell_type": "code",
      "source": [
        "#Check the type of train and test data    \n",
        "print('Type of train data:',type(X_train))\n",
        "print('Type of test data:',type(X_train))"
      ],
      "metadata": {
        "colab": {
          "base_uri": "https://localhost:8080/"
        },
        "id": "g3cGufrsvgij",
        "outputId": "96391d3a-ffb5-4ac1-b196-df9d92ff8076"
      },
      "execution_count": null,
      "outputs": [
        {
          "output_type": "stream",
          "name": "stdout",
          "text": [
            "Type of train data: <class 'numpy.ndarray'>\n",
            "Type of test data: <class 'numpy.ndarray'>\n"
          ]
        }
      ]
    },
    {
      "cell_type": "code",
      "source": [
        "#Number of digits in dataset:\n",
        "n_labels = np.unique(y_train)\n",
        "print('There are {} numbers to detect from the dataset'.format(len(n_labels)))\n",
        "print(n_labels)"
      ],
      "metadata": {
        "colab": {
          "base_uri": "https://localhost:8080/"
        },
        "id": "Ffka4c5exSD6",
        "outputId": "84a8394d-5b35-4622-9373-9a2a697075de"
      },
      "execution_count": null,
      "outputs": [
        {
          "output_type": "stream",
          "name": "stdout",
          "text": [
            "There are 10 numbers to detect from the dataset\n",
            "[0 1 2 3 4 5 6 7 8 9]\n"
          ]
        }
      ]
    },
    {
      "cell_type": "markdown",
      "source": [
        "## Transform data for NNs model"
      ],
      "metadata": {
        "id": "iw7-1qsP_u96"
      }
    },
    {
      "cell_type": "markdown",
      "source": [
        "### One-hot encoding"
      ],
      "metadata": {
        "id": "oaip7khRAE0z"
      }
    },
    {
      "cell_type": "markdown",
      "source": [
        "Use tensorflow.keras.utils.to_categorical to converts a class vector (integers) to binary class matrix. Here, we will use it to convert our labels to a binary matrix with column values are 0 everywhere except for the index of the digit class."
      ],
      "metadata": {
        "id": "S95PSszGCEkA"
      }
    },
    {
      "cell_type": "code",
      "source": [
        "from tensorflow.keras.utils import to_categorical"
      ],
      "metadata": {
        "id": "yijKuYidA9qn"
      },
      "execution_count": null,
      "outputs": []
    },
    {
      "cell_type": "code",
      "source": [
        "y_train = to_categorical(y_train)\n",
        "y_test = to_categorical(y_test)"
      ],
      "metadata": {
        "id": "oMvDc-SHBMrK"
      },
      "execution_count": null,
      "outputs": []
    },
    {
      "cell_type": "code",
      "source": [
        "print('Train data shape after one-hot encoding:', y_train.shape)\n",
        "print('Test data shape after one-hot encoding:', y_test.shape)"
      ],
      "metadata": {
        "colab": {
          "base_uri": "https://localhost:8080/"
        },
        "id": "p5YClxngCNZ2",
        "outputId": "88c513da-0b1b-4cda-cde3-ed86d89e83e3"
      },
      "execution_count": null,
      "outputs": [
        {
          "output_type": "stream",
          "name": "stdout",
          "text": [
            "Train data shape after one-hot encoding: (60000, 10)\n",
            "Test data shape after one-hot encoding: (10000, 10)\n"
          ]
        }
      ]
    },
    {
      "cell_type": "markdown",
      "source": [
        "### Flatten images and normalization"
      ],
      "metadata": {
        "id": "TVLxiHdTCXr6"
      }
    },
    {
      "cell_type": "code",
      "source": [
        "X_train.shape"
      ],
      "metadata": {
        "colab": {
          "base_uri": "https://localhost:8080/"
        },
        "id": "h4l3I4DUJKe0",
        "outputId": "1a095d28-e5e2-4871-b95a-fbb1ae1eb7af"
      },
      "execution_count": null,
      "outputs": [
        {
          "output_type": "execute_result",
          "data": {
            "text/plain": [
              "(60000, 28, 28)"
            ]
          },
          "metadata": {},
          "execution_count": 12
        }
      ]
    },
    {
      "cell_type": "markdown",
      "source": [
        "Image is typically seen as a matrix has always 3 dimensions: channels (color for each pixel), width and height of the image. Here, we will need to do the following tasks to prepare the data for NNs model:\n",
        "\n",
        "*   Flatten the image to 1-D vector for the multilayer perceptions (MLPs), which typically known as the feedforward neural networks\n",
        "*   Normalize the data with each pixel value with the original value of 0-255 to 0-1 values\n",
        "\n",
        "\n"
      ],
      "metadata": {
        "id": "z9DtDDXvI8Wy"
      }
    },
    {
      "cell_type": "code",
      "source": [
        "#Flatten the images:\n",
        "size = X_train.shape[1]*X_train.shape[2]\n",
        "X_train = np.reshape(X_train, [-1,size])\n",
        "X_test = np.reshape(X_test, [-1,size])\n",
        "\n",
        "print('Train data shape:', X_train.shape)\n",
        "print('Test data shape:', X_test.shape)\n",
        "#help(np.reshape)"
      ],
      "metadata": {
        "colab": {
          "base_uri": "https://localhost:8080/"
        },
        "id": "ZUu6OOxWLYA9",
        "outputId": "ed932114-e7b3-4996-f3b4-23a067149ab5"
      },
      "execution_count": null,
      "outputs": [
        {
          "output_type": "stream",
          "name": "stdout",
          "text": [
            "Train data shape: (60000, 784)\n",
            "Test data shape: (10000, 784)\n"
          ]
        }
      ]
    },
    {
      "cell_type": "code",
      "source": [
        "#Normalize the data from 0-255 to 0-1:\n",
        "print('Data before normalization is ranged from {} to {}'.format(X_train[0].min(),X_train[0].max()))\n",
        "X_train = X_train.astype('float32')/255\n",
        "X_test = X_test.astype('float32')/255"
      ],
      "metadata": {
        "colab": {
          "base_uri": "https://localhost:8080/"
        },
        "id": "gGmvOcNmNKJp",
        "outputId": "0c09004f-c7e3-4d1b-c6a4-57ea523c8b0e"
      },
      "execution_count": null,
      "outputs": [
        {
          "output_type": "stream",
          "name": "stdout",
          "text": [
            "Data before normalization is ranged from 0 to 255\n"
          ]
        }
      ]
    },
    {
      "cell_type": "code",
      "source": [
        "print('Train data after normalization is ranged from {} to {}'.format(X_train[0].min(),X_train[0].max()))\n",
        "print('Test data after normalization is ranged from {} to {}'.format(X_train[0].min(),X_train[0].max()))"
      ],
      "metadata": {
        "colab": {
          "base_uri": "https://localhost:8080/"
        },
        "id": "hGDInmvqN91a",
        "outputId": "b7aa62ee-da22-4e21-cd26-d2854f702799"
      },
      "execution_count": null,
      "outputs": [
        {
          "output_type": "stream",
          "name": "stdout",
          "text": [
            "Train data after normalization is ranged from 0.0 to 1.0\n",
            "Test data after normalization is ranged from 0.0 to 1.0\n"
          ]
        }
      ]
    },
    {
      "cell_type": "markdown",
      "source": [
        "## Feed forward neural networks model (multilayer perceptrons-mlp)"
      ],
      "metadata": {
        "id": "MHPGrXPaw-i5"
      }
    },
    {
      "cell_type": "markdown",
      "source": [
        "### Network hyperparameter"
      ],
      "metadata": {
        "id": "KlL2sANbPsOP"
      }
    },
    {
      "cell_type": "markdown",
      "source": [
        "* Batch size: number of samples to work through before updating the internal model parameters. Smaller batch size will cause a longer training time but can prevent the overfitting issue since only part of the training dataset is seen. Common values equal to $2^n$ such as 32, 64, 128\n",
        "* Epoch:  number times that the learning algorithm will work through the entire training dataset. Increase number of epoch will improve the model but can lead to the overfitting problems\n",
        "* Number of neurons per layer and number of hidden layer: Here, there will be only 1 hidden layer with 784 neurons corresponding to the input size.\n",
        "* Dropout layer is a regularization method to turned off some neurons randomly with the dropout rate assumed to be 40%, meaning that there are 40% chances turned off randomly\n"
      ],
      "metadata": {
        "id": "3gX9TOKiPvwQ"
      }
    },
    {
      "cell_type": "code",
      "source": [
        "#Model parameters:\n",
        "n_batch_size = 128\n",
        "n_neurons = 128\n",
        "dropout_rate =0.4 \n",
        "n_epoch = 500"
      ],
      "metadata": {
        "id": "fFEZaZrjv3dT"
      },
      "execution_count": null,
      "outputs": []
    },
    {
      "cell_type": "markdown",
      "source": [
        "### Model architecture"
      ],
      "metadata": {
        "id": "CRtGDrUnvcii"
      }
    },
    {
      "cell_type": "markdown",
      "source": [
        "1. Three layers: input with 784 neurons, hidden layer with 128 neurons, and output layer with 10 neurons. This is approximated based on the number of features and number of labels.\n",
        "2. Dropout layer is added to in first and second layer to regularize the model and prevent overfitting. The dropout rate is assumed to 0.4\n",
        "3. Rectified Linear Unit (ReLU) is implemented in first and second layers which can help reduce the vanishing gradient problems. For the last layer, softmax is used to return an array of probability scores (summing to 1). Each score will be the probability that the current digit image belongs to one of our 10 digit classes.\n",
        "4. Loss function used in here is the categorical cross-entropy to compute the error between the true classes and predicted classes. The labels are given in an one_hot format\n",
        "5. Optimizer used here is the adam (adaptive moments) with adaptive learning rates"
      ],
      "metadata": {
        "id": "-JWK5DJ28zoJ"
      }
    },
    {
      "cell_type": "code",
      "source": [
        "from tensorflow.keras.models import Sequential\n",
        "from tensorflow.keras.layers import Dense, Activation, Dropout\n",
        "from tensorflow.keras.callbacks import EarlyStopping"
      ],
      "metadata": {
        "id": "fLigk0RHvS3u"
      },
      "execution_count": null,
      "outputs": []
    },
    {
      "cell_type": "code",
      "source": [
        "#Specify callback criteria\n",
        "early_stop = EarlyStopping(monitor='val_loss', mode='min',verbose = 1, patience = 25)\n"
      ],
      "metadata": {
        "id": "SvpRa-tkvTf_"
      },
      "execution_count": null,
      "outputs": []
    },
    {
      "cell_type": "code",
      "source": [
        "model = Sequential()\n",
        "\n",
        "model.add(Dense(784, activation = 'relu')) #784 is number of 'features' \n",
        "model.add(Dropout(rate = dropout_rate))\n",
        "\n",
        "model.add(Dense(n_neurons, activation = 'relu'))\n",
        "model.add(Dropout(rate = dropout_rate))\n",
        "\n",
        "#multiclassification \n",
        "model.add(Dense(10, activation = 'softmax')) #10 is number of labels: 0-9\n",
        "\n",
        "model.compile(loss = 'CategoricalCrossentropy', optimizer='adam') "
      ],
      "metadata": {
        "id": "RXK-I5aSwUCf"
      },
      "execution_count": null,
      "outputs": []
    },
    {
      "cell_type": "markdown",
      "source": [
        "### Model summary and view"
      ],
      "metadata": {
        "id": "SyGHb8WSCbxW"
      }
    },
    {
      "cell_type": "code",
      "source": [
        "#model.summary()"
      ],
      "metadata": {
        "id": "iCaxlYe6CbPt"
      },
      "execution_count": null,
      "outputs": []
    },
    {
      "cell_type": "code",
      "source": [
        "from keras.utils import plot_model"
      ],
      "metadata": {
        "id": "y9BAI9rlChfi"
      },
      "execution_count": null,
      "outputs": []
    },
    {
      "cell_type": "code",
      "source": [
        "#plot_model(model, to_file='mlp_model_mnist.png', show_shapes=True)"
      ],
      "metadata": {
        "id": "CccCW-CkClHS"
      },
      "execution_count": null,
      "outputs": []
    },
    {
      "cell_type": "markdown",
      "source": [
        "### Train the model"
      ],
      "metadata": {
        "id": "jmG2h34I_Ld0"
      }
    },
    {
      "cell_type": "code",
      "source": [
        "model.fit(X_train, y_train, epochs=n_epoch, batch_size= n_batch_size\n",
        "          , validation_data = (X_test,y_test)\n",
        "          , callbacks=[early_stop])"
      ],
      "metadata": {
        "colab": {
          "base_uri": "https://localhost:8080/"
        },
        "id": "4JqkPVDxwhul",
        "outputId": "583f04e9-4ec8-4592-d33a-1c826ddc10b8"
      },
      "execution_count": null,
      "outputs": [
        {
          "output_type": "stream",
          "name": "stdout",
          "text": [
            "Epoch 1/500\n",
            "469/469 [==============================] - 9s 17ms/step - loss: 0.3338 - val_loss: 0.1252\n",
            "Epoch 2/500\n",
            "469/469 [==============================] - 9s 19ms/step - loss: 0.1466 - val_loss: 0.0833\n",
            "Epoch 3/500\n",
            "469/469 [==============================] - 8s 17ms/step - loss: 0.1091 - val_loss: 0.0800\n",
            "Epoch 4/500\n",
            "469/469 [==============================] - 8s 17ms/step - loss: 0.0895 - val_loss: 0.0722\n",
            "Epoch 5/500\n",
            "469/469 [==============================] - 8s 17ms/step - loss: 0.0765 - val_loss: 0.0680\n",
            "Epoch 6/500\n",
            "469/469 [==============================] - 9s 20ms/step - loss: 0.0673 - val_loss: 0.0625\n",
            "Epoch 7/500\n",
            "469/469 [==============================] - 8s 17ms/step - loss: 0.0615 - val_loss: 0.0591\n",
            "Epoch 8/500\n",
            "469/469 [==============================] - 8s 17ms/step - loss: 0.0559 - val_loss: 0.0633\n",
            "Epoch 9/500\n",
            "469/469 [==============================] - 8s 17ms/step - loss: 0.0510 - val_loss: 0.0605\n",
            "Epoch 10/500\n",
            "469/469 [==============================] - 8s 17ms/step - loss: 0.0469 - val_loss: 0.0573\n",
            "Epoch 11/500\n",
            "469/469 [==============================] - 8s 17ms/step - loss: 0.0408 - val_loss: 0.0621\n",
            "Epoch 12/500\n",
            "469/469 [==============================] - 8s 17ms/step - loss: 0.0417 - val_loss: 0.0588\n",
            "Epoch 13/500\n",
            "469/469 [==============================] - 8s 17ms/step - loss: 0.0398 - val_loss: 0.0606\n",
            "Epoch 14/500\n",
            "469/469 [==============================] - 8s 17ms/step - loss: 0.0366 - val_loss: 0.0566\n",
            "Epoch 15/500\n",
            "469/469 [==============================] - 8s 17ms/step - loss: 0.0370 - val_loss: 0.0615\n",
            "Epoch 16/500\n",
            "469/469 [==============================] - 8s 17ms/step - loss: 0.0320 - val_loss: 0.0625\n",
            "Epoch 17/500\n",
            "469/469 [==============================] - 8s 17ms/step - loss: 0.0294 - val_loss: 0.0629\n",
            "Epoch 18/500\n",
            "469/469 [==============================] - 9s 19ms/step - loss: 0.0323 - val_loss: 0.0721\n",
            "Epoch 19/500\n",
            "469/469 [==============================] - 8s 18ms/step - loss: 0.0309 - val_loss: 0.0665\n",
            "Epoch 20/500\n",
            "469/469 [==============================] - 8s 17ms/step - loss: 0.0292 - val_loss: 0.0647\n",
            "Epoch 21/500\n",
            "469/469 [==============================] - 8s 18ms/step - loss: 0.0281 - val_loss: 0.0612\n",
            "Epoch 22/500\n",
            "469/469 [==============================] - 8s 17ms/step - loss: 0.0251 - val_loss: 0.0687\n",
            "Epoch 23/500\n",
            "469/469 [==============================] - 8s 18ms/step - loss: 0.0272 - val_loss: 0.0661\n",
            "Epoch 24/500\n",
            "469/469 [==============================] - 8s 17ms/step - loss: 0.0254 - val_loss: 0.0695\n",
            "Epoch 25/500\n",
            "469/469 [==============================] - 8s 17ms/step - loss: 0.0252 - val_loss: 0.0629\n",
            "Epoch 26/500\n",
            "469/469 [==============================] - 9s 20ms/step - loss: 0.0239 - val_loss: 0.0721\n",
            "Epoch 27/500\n",
            "469/469 [==============================] - 8s 17ms/step - loss: 0.0224 - val_loss: 0.0629\n",
            "Epoch 28/500\n",
            "469/469 [==============================] - 8s 17ms/step - loss: 0.0209 - val_loss: 0.0674\n",
            "Epoch 29/500\n",
            "469/469 [==============================] - 8s 17ms/step - loss: 0.0234 - val_loss: 0.0697\n",
            "Epoch 30/500\n",
            "469/469 [==============================] - 9s 20ms/step - loss: 0.0223 - val_loss: 0.0757\n",
            "Epoch 31/500\n",
            "469/469 [==============================] - 8s 17ms/step - loss: 0.0226 - val_loss: 0.0668\n",
            "Epoch 32/500\n",
            "469/469 [==============================] - 8s 18ms/step - loss: 0.0205 - val_loss: 0.0694\n",
            "Epoch 33/500\n",
            "469/469 [==============================] - 8s 18ms/step - loss: 0.0213 - val_loss: 0.0664\n",
            "Epoch 34/500\n",
            "469/469 [==============================] - 8s 17ms/step - loss: 0.0199 - val_loss: 0.0683\n",
            "Epoch 35/500\n",
            "469/469 [==============================] - 8s 17ms/step - loss: 0.0204 - val_loss: 0.0826\n",
            "Epoch 36/500\n",
            "469/469 [==============================] - 8s 17ms/step - loss: 0.0206 - val_loss: 0.0671\n",
            "Epoch 37/500\n",
            "469/469 [==============================] - 8s 17ms/step - loss: 0.0186 - val_loss: 0.0735\n",
            "Epoch 38/500\n",
            "469/469 [==============================] - 8s 17ms/step - loss: 0.0190 - val_loss: 0.0715\n",
            "Epoch 39/500\n",
            "469/469 [==============================] - 8s 17ms/step - loss: 0.0195 - val_loss: 0.0752\n",
            "Epoch 39: early stopping\n"
          ]
        },
        {
          "output_type": "execute_result",
          "data": {
            "text/plain": [
              "<keras.callbacks.History at 0x7f065b2f6250>"
            ]
          },
          "metadata": {},
          "execution_count": 57
        }
      ]
    },
    {
      "cell_type": "markdown",
      "source": [
        "### Model evaluation "
      ],
      "metadata": {
        "id": "eQaYmqOiCzdy"
      }
    },
    {
      "cell_type": "code",
      "source": [
        "#Compute the loss function\n",
        "losses = pd.DataFrame(model.history.history)"
      ],
      "metadata": {
        "id": "hheFXdUY_sfb"
      },
      "execution_count": null,
      "outputs": []
    },
    {
      "cell_type": "code",
      "source": [
        "losses.plot()\n",
        "plt.xlabel('epoch')\n",
        "plt.ylabel('Loss')"
      ],
      "metadata": {
        "colab": {
          "base_uri": "https://localhost:8080/",
          "height": 296
        },
        "id": "wwdHCMpnBS28",
        "outputId": "3ed938e9-2d97-41ae-d726-6334d01b8437"
      },
      "execution_count": null,
      "outputs": [
        {
          "output_type": "execute_result",
          "data": {
            "text/plain": [
              "Text(0, 0.5, 'Loss')"
            ]
          },
          "metadata": {},
          "execution_count": 91
        },
        {
          "output_type": "display_data",
          "data": {
            "text/plain": [
              "<Figure size 432x288 with 1 Axes>"
            ],
            "image/png": "[encoded data removed]"
          },
          "metadata": {
            "needs_background": "light"
          }
        }
      ]
    },
    {
      "cell_type": "code",
      "source": [
        "# Compute predicted values based on the X_test:\n",
        "y_predict = np.argmax(model.predict(X_test),axis=1)"
      ],
      "metadata": {
        "colab": {
          "base_uri": "https://localhost:8080/"
        },
        "id": "Q12saJqgHhS0",
        "outputId": "beaba1f9-bb1f-46e0-f691-e3320fea3b09"
      },
      "execution_count": null,
      "outputs": [
        {
          "output_type": "stream",
          "name": "stdout",
          "text": [
            "313/313 [==============================] - 1s 4ms/step\n"
          ]
        }
      ]
    },
    {
      "cell_type": "code",
      "source": [
        "#Convert one-hot encode to 1D vector of labels\n",
        "y_test_list = np.argmax(y_test,axis=1)"
      ],
      "metadata": {
        "id": "BXNBMewZJ3_-"
      },
      "execution_count": null,
      "outputs": []
    },
    {
      "cell_type": "code",
      "source": [
        "print(y_predict)\n",
        "print(y_test_list)"
      ],
      "metadata": {
        "colab": {
          "base_uri": "https://localhost:8080/"
        },
        "id": "Fc9U7RDYHlE0",
        "outputId": "791b90f5-a220-41d6-b463-1b432d6f295a"
      },
      "execution_count": null,
      "outputs": [
        {
          "output_type": "stream",
          "name": "stdout",
          "text": [
            "[7 2 1 ... 4 5 6]\n",
            "[7 2 1 ... 4 5 6]\n"
          ]
        }
      ]
    },
    {
      "cell_type": "code",
      "source": [
        "from sklearn.metrics import classification_report, confusion_matrix"
      ],
      "metadata": {
        "id": "1XMhqDI0H4L8"
      },
      "execution_count": null,
      "outputs": []
    },
    {
      "cell_type": "code",
      "source": [
        "plt.figure(figsize=(16,8))\n",
        "fx=sns.heatmap(confusion_matrix(y_test_list,y_predict), annot=True, fmt=\".2f\",cmap=\"GnBu\")\n",
        "fx.set_title('Confusion Matrix \\n');\n",
        "fx.set_xlabel('\\n Predicted Values\\n')\n",
        "fx.set_ylabel('Actual Values\\n');\n",
        "fx.xaxis.set_ticklabels(n_labels)\n",
        "fx.yaxis.set_ticklabels(n_labels)\n",
        "plt.show()"
      ],
      "metadata": {
        "colab": {
          "base_uri": "https://localhost:8080/",
          "height": 551
        },
        "id": "tcIjDd97IP09",
        "outputId": "010eb9b5-f6b6-43c5-e52f-8b37fe206e8b"
      },
      "execution_count": null,
      "outputs": [
        {
          "output_type": "display_data",
          "data": {
            "text/plain": [
              "<Figure size 1152x576 with 2 Axes>"
            ],
            "image/png": "[encoded data removed]"
          },
          "metadata": {
            "needs_background": "light"
          }
        }
      ]
    },
    {
      "cell_type": "code",
      "source": [
        "print(classification_report(y_test_list,y_predict))"
      ],
      "metadata": {
        "colab": {
          "base_uri": "https://localhost:8080/"
        },
        "id": "qyhky6j-IKMF",
        "outputId": "adf82cec-3ab6-47f5-a155-2c907decdad9"
      },
      "execution_count": null,
      "outputs": [
        {
          "output_type": "stream",
          "name": "stdout",
          "text": [
            "              precision    recall  f1-score   support\n",
            "\n",
            "           0       0.99      0.99      0.99       980\n",
            "           1       0.99      0.99      0.99      1135\n",
            "           2       0.99      0.99      0.99      1032\n",
            "           3       0.98      0.99      0.98      1010\n",
            "           4       0.98      0.97      0.98       982\n",
            "           5       0.99      0.98      0.98       892\n",
            "           6       0.99      0.99      0.99       958\n",
            "           7       0.98      0.99      0.99      1028\n",
            "           8       0.98      0.97      0.98       974\n",
            "           9       0.97      0.98      0.98      1009\n",
            "\n",
            "    accuracy                           0.98     10000\n",
            "   macro avg       0.98      0.98      0.98     10000\n",
            "weighted avg       0.98      0.98      0.98     10000\n",
            "\n"
          ]
        }
      ]
    },
    {
      "cell_type": "markdown",
      "source": [
        "1. The accuracy of the model is 98% with good prediction for the handwriting of number 0,1,2,6 and a slightly less accurate prediction for numbers 3, 4, 5 ,8 and 9.\n",
        "2. The lowest precision score is for number 9 and lowest recall scores are for number 8 and number 4. "
      ],
      "metadata": {
        "id": "Fc1gzsA-L13v"
      }
    },
    {
      "cell_type": "markdown",
      "source": [
        "### Save the model"
      ],
      "metadata": {
        "id": "9_6yzoN0NNIT"
      }
    },
    {
      "cell_type": "code",
      "source": [
        "model.save('mlp_model_mnist')"
      ],
      "metadata": {
        "id": "P90buJNoNPLN"
      },
      "execution_count": null,
      "outputs": []
    }
  ]
}
